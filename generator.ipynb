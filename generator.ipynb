{
 "cells": [
  {
   "cell_type": "markdown",
   "id": "dd36a5af",
   "metadata": {},
   "source": [
    "**Image transformation**\n",
    "\n",
    "This script transforms a set of images according to the previously trained model.\n",
    "\n",
    "**Important:** the images to transform need to be located in a folder named *original_images* in the root, and will be output in a folder named *transformed_images* in the root as well."
   ]
  },
  {
   "cell_type": "code",
   "execution_count": null,
   "id": "fb7c74f3",
   "metadata": {},
   "outputs": [],
   "source": [
    "import torch, torchvision\n",
    "from torch.utils.data import DataLoader, Dataset\n",
    "from torchvision.datasets import ImageFolder\n",
    "from torchvision import transforms\n",
    "from torch import nn, optim\n",
    "from torchvision.utils import make_grid\n",
    "from torchvision.utils import save_image\n",
    "from tqdm.notebook import tqdm\n",
    "import torch.nn.functional as F\n",
    "import matplotlib.pyplot as plt\n",
    "import numpy as np\n",
    "import pandas as pd\n",
    "import os\n",
    "from PIL import Image"
   ]
  },
  {
   "cell_type": "code",
   "execution_count": null,
   "id": "ff361d9b",
   "metadata": {},
   "outputs": [],
   "source": [
    "transform = transforms.Compose([transforms.ToTensor()])\n",
    "\n",
    "class ImageData(Dataset):\n",
    "    def __init__(self, root, transform=None):\n",
    "        self.transform = transform\n",
    "        self.frame = []\n",
    "        for file in os.listdir(root):\n",
    "            f = os.path.join(root, file)\n",
    "            if os.path.isfile(f):\n",
    "                self.frame.append(f)\n",
    "    \n",
    "    def __len__(self):\n",
    "        return len(self.frame)\n",
    "    \n",
    "    \n",
    "    def __getitem__(self, index):\n",
    "        image_name = self.frame[index]\n",
    "        image = Image.open(image_name)\n",
    "        if self.transform:\n",
    "            image = self.transform(image)\n",
    "        return image\n",
    "\n",
    "rootOrig = './original_images'\n",
    "rootTran = './transformed_images'\n",
    "origset = ImageData(root=rootOrig, transform=transform)\n",
    "\n",
    "if torch.cuda.is_available():\n",
    "    device=torch.device('cuda')\n",
    "    print('Cuda!')\n",
    "else:\n",
    "    device=torch.device('cpu')\n",
    "    print('CPU :(')"
   ]
  },
  {
   "cell_type": "code",
   "execution_count": null,
   "id": "df253867",
   "metadata": {},
   "outputs": [],
   "source": [
    "class Filter1NN(nn.Module):\n",
    "    def __init__(self,inchannels):\n",
    "        super(Filter1NN,self).__init__()\n",
    "        \n",
    "        self.conv1 = nn.ConvTranspose2d(in_channels=inchannels, \n",
    "                               out_channels=3, \n",
    "                               kernel_size=3, \n",
    "                               stride=1, \n",
    "                               padding=1)\n",
    "        self.lrelu1 = nn.Tanh()\n",
    "        self.conv2 = nn.ConvTranspose2d(in_channels=3, \n",
    "                               out_channels=3, \n",
    "                               kernel_size=3, \n",
    "                               stride=1, \n",
    "                               padding=1)\n",
    "        self.lrelu2 = nn.Tanh()\n",
    "        self.conv4 = nn.ConvTranspose2d(in_channels=3, \n",
    "                               out_channels=3, \n",
    "                               kernel_size=3, \n",
    "                               stride=1, \n",
    "                               padding=1)\n",
    "        self.sigm = nn.Sigmoid()\n",
    "\n",
    "    def forward(self,x):\n",
    "        x = self.conv1(x)\n",
    "        x = self.lrelu1(x)\n",
    "        x = self.conv2(x )\n",
    "        x = self.lrelu2(x)\n",
    "        x = self.conv4(x)\n",
    "        return self.sigm(x)\n",
    "        \n",
    "# F=Filter1NN(3).to(device)"
   ]
  },
  {
   "cell_type": "code",
   "execution_count": null,
   "id": "b405c9c0",
   "metadata": {},
   "outputs": [],
   "source": [
    "F = torch.load(\"./modelbest.pth\")\n",
    "F.eval()\n",
    "outdir = \"transformed_images\"\n",
    "\n",
    "isExist = os.path.exists(outdir)\n",
    "if not isExist:\n",
    "    os.makedirs(outdir)\n",
    "\n",
    "for i in tqdm(range(len(origset))):\n",
    "    im_o = origset[i].to(device).reshape(1,origset[i].shape[0],origset[i].shape[1],origset[i].shape[2])\n",
    "    im_t = F(im_o)\n",
    "    name_t = origset.frame[i].replace(\"input\", \"output\")\n",
    "    save_image(im_t,os.path.join(outdir, name_t.replace(\"./original_images\\\\\",\"\")))\n",
    "    \n",
    "    \n",
    "    "
   ]
  }
 ],
 "metadata": {
  "kernelspec": {
   "display_name": "Python 3 (ipykernel)",
   "language": "python",
   "name": "python3"
  },
  "language_info": {
   "codemirror_mode": {
    "name": "ipython",
    "version": 3
   },
   "file_extension": ".py",
   "mimetype": "text/x-python",
   "name": "python",
   "nbconvert_exporter": "python",
   "pygments_lexer": "ipython3",
   "version": "3.9.0"
  }
 },
 "nbformat": 4,
 "nbformat_minor": 5
}
